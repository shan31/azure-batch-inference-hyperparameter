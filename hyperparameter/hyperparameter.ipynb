{
 "cells": [
  {
   "cell_type": "code",
   "execution_count": 11,
   "id": "3371d3e3-3fdd-4707-a2cc-ffab9d81fd04",
   "metadata": {},
   "outputs": [],
   "source": [
    "from azure.ai.ml import MLClient\n",
    "from azure.ai.ml import command, Input\n",
    "from azure.ai.ml.sweep import Choice, Uniform, MedianStoppingPolicy\n",
    "from azure.identity import DefaultAzureCredential\n",
    "\n",
    "# Create your base command job\n",
    "command_job = command(\n",
    "    code=\"./src\",\n",
    "    command=\"python main.py --iris-csv ${{inputs.iris_csv}} --learning-rate ${{inputs.learning_rate}} --boosting ${{inputs.boosting}}\",\n",
    "    environment=\"AzureML-lightgbm-3.2-ubuntu18.04-py37-cpu@latest\",\n",
    "    inputs={\n",
    "        \"iris_csv\": Input(\n",
    "            type=\"uri_file\",\n",
    "            path=\"https://azuremlexamples.blob.core.windows.net/datasets/iris.csv\",\n",
    "        ),\n",
    "        \"learning_rate\": 0.9,\n",
    "        \"boosting\": \"gbdt\",\n",
    "    },\n",
    "    compute=\"akacomputenode2\",\n",
    ")\n",
    "\n",
    "# Override your inputs with parameter expressions\n",
    "command_job_for_sweep = command_job(\n",
    "    learning_rate=Uniform(min_value=0.01, max_value=0.9),\n",
    "    boosting=Choice(values=[\"gbdt\", \"dart\"]),\n",
    ")\n",
    "\n",
    "# Call sweep() on your command job to sweep over your parameter expressions\n",
    "sweep_job = command_job_for_sweep.sweep(\n",
    "    compute=\"akacomputenode2\",\n",
    "    sampling_algorithm=\"random\",\n",
    "    primary_metric=\"test-multi_logloss\",\n",
    "    goal=\"Minimize\",\n",
    ")\n",
    "\n",
    "# Specify your experiment details\n",
    "sweep_job.display_name = \"lightgbm-iris-sweep-example\"\n",
    "sweep_job.experiment_name = \"lightgbm-iris-sweep-example\"\n",
    "sweep_job.description = \"Run a hyperparameter sweep job for LightGBM on Iris dataset.\"\n",
    "\n",
    "# Define the limits for this sweep\n",
    "sweep_job.set_limits(max_total_trials=20, max_concurrent_trials=10, timeout=7200)\n",
    "\n",
    "# Set early stopping on this one\n",
    "sweep_job.early_termination = MedianStoppingPolicy(\n",
    "    delay_evaluation=5, evaluation_interval=2\n",
    ")"
   ]
  },
  {
   "cell_type": "code",
   "execution_count": 12,
   "id": "fcfc36a6-119c-4b1d-97ec-419532ffbcaa",
   "metadata": {},
   "outputs": [
    {
     "name": "stderr",
     "output_type": "stream",
     "text": [
      "Found the config file in: /config.json\n",
      "Overriding of current TracerProvider is not allowed\n",
      "Overriding of current LoggerProvider is not allowed\n",
      "Overriding of current MeterProvider is not allowed\n",
      "Attempting to instrument while already instrumented\n",
      "Attempting to instrument while already instrumented\n",
      "Attempting to instrument while already instrumented\n"
     ]
    },
    {
     "data": {
      "text/plain": [
       "'https://ml.azure.com/runs/busy_chain_q4zwy06trt?wsid=/subscriptions/1a1e86ad-fe04-43a8-9dc4-0c907e547b71/resourcegroups/rg-dp100-labs/workspaces/mlw-dp100-labs&tid=4617d4c8-9c8a-4f17-b20d-6258a331c40e'"
      ]
     },
     "execution_count": 12,
     "metadata": {},
     "output_type": "execute_result"
    }
   ],
   "source": [
    "# 1. Import the required libraries\n",
    "from azure.ai.ml import MLClient\n",
    "from azure.identity import DefaultAzureCredential\n",
    "\n",
    "# 2. Configure workspace details and get a handle to the workspace\n",
    "ml_client = MLClient.from_config(credential=DefaultAzureCredential())\n",
    "\n",
    "\n",
    "# submit the sweep\n",
    "returned_sweep_job = ml_client.create_or_update(sweep_job)\n",
    "# get a URL for the status of the job\n",
    "returned_sweep_job.services[\"Studio\"].endpoint"
   ]
  },
  {
   "cell_type": "code",
   "execution_count": null,
   "id": "e523e40f-9824-4ec5-9fae-293a684fd0e6",
   "metadata": {},
   "outputs": [],
   "source": []
  }
 ],
 "metadata": {
  "kernelspec": {
   "display_name": "Python 3 (ipykernel)",
   "language": "python",
   "name": "python3"
  },
  "language_info": {
   "codemirror_mode": {
    "name": "ipython",
    "version": 3
   },
   "file_extension": ".py",
   "mimetype": "text/x-python",
   "name": "python",
   "nbconvert_exporter": "python",
   "pygments_lexer": "ipython3",
   "version": "3.10.18"
  }
 },
 "nbformat": 4,
 "nbformat_minor": 5
}
